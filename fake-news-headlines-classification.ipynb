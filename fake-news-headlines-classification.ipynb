{
 "cells": [
  {
   "cell_type": "markdown",
   "metadata": {
    "papermill": {
     "duration": 0.017221,
     "end_time": "2021-01-17T13:00:00.976632",
     "exception": false,
     "start_time": "2021-01-17T13:00:00.959411",
     "status": "completed"
    },
    "tags": []
   },
   "source": [
    "> This notebook is trying to use [A Million News Headlines](https://www.kaggle.com/therohk/million-headlines) dataset to implement a fake news headlines detection model using machine learning approach. Where the A Million News Headlines dataset will be labeled as real news headlines. And this notebook will also use two fake news headline datasets on Kaggle from [Fake and real news](https://www.kaggle.com/clmentbisaillon/fake-and-real-news-dataset) and [Getting Real about Fake News](https://www.kaggle.com/mrisdal/fake-news) . \n",
    "\n"
   ]
  },
  {
   "cell_type": "code",
   "execution_count": 1,
   "metadata": {
    "_cell_guid": "b1076dfc-b9ad-4769-8c92-a6c4dae69d19",
    "_uuid": "8f2839f25d086af736a60e9eeb907d3b93b6e0e5",
    "execution": {
     "iopub.execute_input": "2021-01-17T13:00:01.011694Z",
     "iopub.status.busy": "2021-01-17T13:00:01.010994Z",
     "iopub.status.idle": "2021-01-17T13:00:01.039801Z",
     "shell.execute_reply": "2021-01-17T13:00:01.039116Z"
    },
    "papermill": {
     "duration": 0.049201,
     "end_time": "2021-01-17T13:00:01.039919",
     "exception": false,
     "start_time": "2021-01-17T13:00:00.990718",
     "status": "completed"
    },
    "tags": []
   },
   "outputs": [
    {
     "name": "stdout",
     "output_type": "stream",
     "text": [
      "/kaggle/input/fake-and-real-news-dataset/True.csv\n",
      "/kaggle/input/fake-and-real-news-dataset/Fake.csv\n",
      "/kaggle/input/million-headlines/abcnews-date-text.csv\n",
      "/kaggle/input/fake-news/fake.csv\n"
     ]
    }
   ],
   "source": [
    "import numpy as np \n",
    "import pandas as pd \n",
    "\n",
    "import os\n",
    "for dirname, _, filenames in os.walk('/kaggle/input'):\n",
    "    for filename in filenames:\n",
    "        print(os.path.join(dirname, filename))\n"
   ]
  },
  {
   "cell_type": "markdown",
   "metadata": {
    "papermill": {
     "duration": 0.01435,
     "end_time": "2021-01-17T13:00:01.069886",
     "exception": false,
     "start_time": "2021-01-17T13:00:01.055536",
     "status": "completed"
    },
    "tags": []
   },
   "source": [
    "# **Load Datasets**"
   ]
  },
  {
   "cell_type": "code",
   "execution_count": 2,
   "metadata": {
    "_cell_guid": "79c7e3d0-c299-4dcb-8224-4455121ee9b0",
    "_uuid": "d629ff2d2480ee46fbb7e2d37f6b5fab8052498a",
    "execution": {
     "iopub.execute_input": "2021-01-17T13:00:01.107223Z",
     "iopub.status.busy": "2021-01-17T13:00:01.106504Z",
     "iopub.status.idle": "2021-01-17T13:00:05.997626Z",
     "shell.execute_reply": "2021-01-17T13:00:05.998141Z"
    },
    "papermill": {
     "duration": 4.913882,
     "end_time": "2021-01-17T13:00:05.998302",
     "exception": false,
     "start_time": "2021-01-17T13:00:01.084420",
     "status": "completed"
    },
    "scrolled": false,
    "tags": []
   },
   "outputs": [],
   "source": [
    "#Read Dataset\n",
    "Headlines = pd.read_csv('/kaggle/input/million-headlines/abcnews-date-text.csv', usecols =[\"headline_text\"]).dropna()\n",
    "Headlines1 = pd.read_csv('/kaggle/input/fake-news/fake.csv', usecols =[\"title\"]).dropna()\n",
    "Headlines2 = pd.read_csv('/kaggle/input/fake-and-real-news-dataset/Fake.csv', usecols =[\"title\"]).dropna()"
   ]
  },
  {
   "cell_type": "code",
   "execution_count": 3,
   "metadata": {
    "execution": {
     "iopub.execute_input": "2021-01-17T13:00:06.032407Z",
     "iopub.status.busy": "2021-01-17T13:00:06.031428Z",
     "iopub.status.idle": "2021-01-17T13:00:06.558255Z",
     "shell.execute_reply": "2021-01-17T13:00:06.557511Z"
    },
    "papermill": {
     "duration": 0.545133,
     "end_time": "2021-01-17T13:00:06.558372",
     "exception": false,
     "start_time": "2021-01-17T13:00:06.013239",
     "status": "completed"
    },
    "tags": []
   },
   "outputs": [],
   "source": [
    "#Removing duplicated headlines\n",
    "Headlines = Headlines.drop_duplicates('headline_text')\n",
    "Headlines1 = Headlines1.drop_duplicates('title')\n",
    "Headlines2 = Headlines2.drop_duplicates('title')"
   ]
  },
  {
   "cell_type": "code",
   "execution_count": 4,
   "metadata": {
    "execution": {
     "iopub.execute_input": "2021-01-17T13:00:06.596627Z",
     "iopub.status.busy": "2021-01-17T13:00:06.593901Z",
     "iopub.status.idle": "2021-01-17T13:00:06.599236Z",
     "shell.execute_reply": "2021-01-17T13:00:06.599730Z"
    },
    "papermill": {
     "duration": 0.026389,
     "end_time": "2021-01-17T13:00:06.599898",
     "exception": false,
     "start_time": "2021-01-17T13:00:06.573509",
     "status": "completed"
    },
    "tags": []
   },
   "outputs": [],
   "source": [
    "#Rename dataframe columns and Combine all datasets\n",
    "Headlines1 = Headlines1.rename(columns={'title': 'headline_text'})\n",
    "Headlines2 = Headlines2.rename(columns={'title': 'headline_text'})"
   ]
  },
  {
   "cell_type": "markdown",
   "metadata": {
    "papermill": {
     "duration": 0.014541,
     "end_time": "2021-01-17T13:00:06.629785",
     "exception": false,
     "start_time": "2021-01-17T13:00:06.615244",
     "status": "completed"
    },
    "tags": []
   },
   "source": [
    "# **Labelling**"
   ]
  },
  {
   "cell_type": "code",
   "execution_count": 5,
   "metadata": {
    "execution": {
     "iopub.execute_input": "2021-01-17T13:00:06.664774Z",
     "iopub.status.busy": "2021-01-17T13:00:06.664161Z",
     "iopub.status.idle": "2021-01-17T13:00:06.671301Z",
     "shell.execute_reply": "2021-01-17T13:00:06.670790Z"
    },
    "papermill": {
     "duration": 0.026833,
     "end_time": "2021-01-17T13:00:06.671421",
     "exception": false,
     "start_time": "2021-01-17T13:00:06.644588",
     "status": "completed"
    },
    "tags": []
   },
   "outputs": [],
   "source": [
    "#Creating lable for datasets\n",
    "#million-headlines dataset will be used as real headlines\n",
    "#fake-and-real-news-dataset & fake-news dataset will be used as fake headlines\n",
    "Headlines['fake'] = 0\n",
    "Headlines1['fake'] = 1\n",
    "Headlines2['fake'] = 1"
   ]
  },
  {
   "cell_type": "markdown",
   "metadata": {
    "papermill": {
     "duration": 0.014454,
     "end_time": "2021-01-17T13:00:06.700624",
     "exception": false,
     "start_time": "2021-01-17T13:00:06.686170",
     "status": "completed"
    },
    "tags": []
   },
   "source": [
    "# **Combine Datasets**"
   ]
  },
  {
   "cell_type": "code",
   "execution_count": 6,
   "metadata": {
    "execution": {
     "iopub.execute_input": "2021-01-17T13:00:06.736604Z",
     "iopub.status.busy": "2021-01-17T13:00:06.735940Z",
     "iopub.status.idle": "2021-01-17T13:00:06.743727Z",
     "shell.execute_reply": "2021-01-17T13:00:06.744413Z"
    },
    "papermill": {
     "duration": 0.029322,
     "end_time": "2021-01-17T13:00:06.744613",
     "exception": false,
     "start_time": "2021-01-17T13:00:06.715291",
     "status": "completed"
    },
    "tags": []
   },
   "outputs": [
    {
     "name": "stdout",
     "output_type": "stream",
     "text": [
      "Training dataset contains: 50000 Real headlines and 29601 Fake headlines.\n"
     ]
    }
   ],
   "source": [
    "#Downsize million-headlines dataset to first 50K rows\n",
    "data = pd.concat([Headlines[:50000],Headlines1,Headlines2])\n",
    "print('Training dataset contains: {} Real headlines and {} Fake headlines.'.format(50000,len(Headlines1)+len(Headlines2)))"
   ]
  },
  {
   "cell_type": "markdown",
   "metadata": {
    "papermill": {
     "duration": 0.016016,
     "end_time": "2021-01-17T13:00:06.777195",
     "exception": false,
     "start_time": "2021-01-17T13:00:06.761179",
     "status": "completed"
    },
    "tags": []
   },
   "source": [
    "# **Data Preprocessing**"
   ]
  },
  {
   "cell_type": "code",
   "execution_count": 7,
   "metadata": {
    "execution": {
     "iopub.execute_input": "2021-01-17T13:00:06.814278Z",
     "iopub.status.busy": "2021-01-17T13:00:06.813628Z",
     "iopub.status.idle": "2021-01-17T13:00:08.744695Z",
     "shell.execute_reply": "2021-01-17T13:00:08.743981Z"
    },
    "papermill": {
     "duration": 1.952557,
     "end_time": "2021-01-17T13:00:08.744808",
     "exception": false,
     "start_time": "2021-01-17T13:00:06.792251",
     "status": "completed"
    },
    "tags": []
   },
   "outputs": [
    {
     "name": "stderr",
     "output_type": "stream",
     "text": [
      "/opt/conda/lib/python3.7/site-packages/sklearn/utils/deprecation.py:143: FutureWarning: The sklearn.feature_extraction.stop_words module is  deprecated in version 0.22 and will be removed in version 0.24. The corresponding classes / functions should instead be imported from sklearn.feature_extraction.text. Anything that cannot be imported from sklearn.feature_extraction.text is now part of the private API.\n",
      "  warnings.warn(message, FutureWarning)\n"
     ]
    }
   ],
   "source": [
    "import gensim\n",
    "import nltk as nl\n",
    "from sklearn.feature_extraction import stop_words\n",
    "\n",
    "\n",
    "nltk_stopwords = nl.corpus.stopwords.words('english')\n",
    "gensim_stopwords = gensim.parsing.preprocessing.STOPWORDS\n",
    "sklearn_stopwords = stop_words.ENGLISH_STOP_WORDS\n",
    "combined_stopwords = sklearn_stopwords.union(nltk_stopwords,gensim_stopwords)"
   ]
  },
  {
   "cell_type": "code",
   "execution_count": 8,
   "metadata": {
    "execution": {
     "iopub.execute_input": "2021-01-17T13:00:08.789178Z",
     "iopub.status.busy": "2021-01-17T13:00:08.788494Z",
     "iopub.status.idle": "2021-01-17T13:00:08.791318Z",
     "shell.execute_reply": "2021-01-17T13:00:08.791758Z"
    },
    "papermill": {
     "duration": 0.030427,
     "end_time": "2021-01-17T13:00:08.791885",
     "exception": false,
     "start_time": "2021-01-17T13:00:08.761458",
     "status": "completed"
    },
    "tags": []
   },
   "outputs": [
    {
     "name": "stdout",
     "output_type": "stream",
     "text": [
      "NLTK has 179 stop words\n",
      "Gensim has 337 stop words\n",
      "Sklearn has 318 stop words\n",
      "Combined stopwords list has 390 stop words\n"
     ]
    }
   ],
   "source": [
    "print('NLTK has {} stop words'.format(len(nltk_stopwords)))\n",
    "print('Gensim has {} stop words'.format(len(gensim_stopwords)))\n",
    "print('Sklearn has {} stop words'.format(len(sklearn_stopwords)))\n",
    "print('Combined stopwords list has {} stop words'.format(len(combined_stopwords)))"
   ]
  },
  {
   "cell_type": "code",
   "execution_count": 9,
   "metadata": {
    "execution": {
     "iopub.execute_input": "2021-01-17T13:00:08.829795Z",
     "iopub.status.busy": "2021-01-17T13:00:08.828927Z",
     "iopub.status.idle": "2021-01-17T13:00:08.832849Z",
     "shell.execute_reply": "2021-01-17T13:00:08.832338Z"
    },
    "papermill": {
     "duration": 0.024812,
     "end_time": "2021-01-17T13:00:08.832977",
     "exception": false,
     "start_time": "2021-01-17T13:00:08.808165",
     "status": "completed"
    },
    "tags": []
   },
   "outputs": [],
   "source": [
    "from nltk.stem import PorterStemmer \n",
    "porter_stemmer = PorterStemmer() "
   ]
  },
  {
   "cell_type": "code",
   "execution_count": 10,
   "metadata": {
    "execution": {
     "iopub.execute_input": "2021-01-17T13:00:08.871939Z",
     "iopub.status.busy": "2021-01-17T13:00:08.871000Z",
     "iopub.status.idle": "2021-01-17T13:00:26.897398Z",
     "shell.execute_reply": "2021-01-17T13:00:26.898044Z"
    },
    "papermill": {
     "duration": 18.046823,
     "end_time": "2021-01-17T13:00:26.898258",
     "exception": false,
     "start_time": "2021-01-17T13:00:08.851435",
     "status": "completed"
    },
    "tags": []
   },
   "outputs": [],
   "source": [
    "data['headline_text'] = data['headline_text'].apply(lambda x: x.lower())\n",
    "data['headline_text'] = data['headline_text'].apply(lambda x: ' '.join([word for word in x.split() if word.isalpha()]))\n",
    "data['headline_text'] = data['headline_text'].apply(lambda x: ' '.join([porter_stemmer.stem(word) for word in x.split()]))\n",
    "data['headline_text'] = data['headline_text'].apply(lambda x: ' '.join([word for word in x.split() if word not in (combined_stopwords)]))"
   ]
  },
  {
   "cell_type": "markdown",
   "metadata": {
    "papermill": {
     "duration": 0.017315,
     "end_time": "2021-01-17T13:00:26.932560",
     "exception": false,
     "start_time": "2021-01-17T13:00:26.915245",
     "status": "completed"
    },
    "tags": []
   },
   "source": [
    "# **Splitting Dataset**"
   ]
  },
  {
   "cell_type": "code",
   "execution_count": 11,
   "metadata": {
    "execution": {
     "iopub.execute_input": "2021-01-17T13:00:26.971222Z",
     "iopub.status.busy": "2021-01-17T13:00:26.970152Z",
     "iopub.status.idle": "2021-01-17T13:00:26.987636Z",
     "shell.execute_reply": "2021-01-17T13:00:26.988190Z"
    },
    "papermill": {
     "duration": 0.038374,
     "end_time": "2021-01-17T13:00:26.988334",
     "exception": false,
     "start_time": "2021-01-17T13:00:26.949960",
     "status": "completed"
    },
    "tags": []
   },
   "outputs": [],
   "source": [
    "from sklearn.model_selection import train_test_split\n",
    "\n",
    "x_train,x_test,y_train,y_test=train_test_split(data['headline_text'], data['fake'], test_size=0.2, random_state=7)"
   ]
  },
  {
   "cell_type": "markdown",
   "metadata": {
    "papermill": {
     "duration": 0.017475,
     "end_time": "2021-01-17T13:00:27.023177",
     "exception": false,
     "start_time": "2021-01-17T13:00:27.005702",
     "status": "completed"
    },
    "tags": []
   },
   "source": [
    "# **Construct models with TF-IDF**"
   ]
  },
  {
   "cell_type": "code",
   "execution_count": 12,
   "metadata": {
    "execution": {
     "iopub.execute_input": "2021-01-17T13:00:27.065582Z",
     "iopub.status.busy": "2021-01-17T13:00:27.064746Z",
     "iopub.status.idle": "2021-01-17T13:00:32.826121Z",
     "shell.execute_reply": "2021-01-17T13:00:32.825241Z"
    },
    "papermill": {
     "duration": 5.78602,
     "end_time": "2021-01-17T13:00:32.826243",
     "exception": false,
     "start_time": "2021-01-17T13:00:27.040223",
     "status": "completed"
    },
    "tags": []
   },
   "outputs": [],
   "source": [
    "from sklearn.feature_extraction.text import TfidfVectorizer\n",
    "from nltk.tokenize import word_tokenize\n",
    "from sklearn.tree import DecisionTreeClassifier\n",
    "from sklearn.ensemble import RandomForestClassifier\n",
    "from sklearn.svm import SVC\n",
    "from sklearn.naive_bayes import MultinomialNB\n",
    "from sklearn.neighbors import KNeighborsClassifier\n",
    "from keras.models import Sequential\n",
    "from keras.layers import Dense, Activation, Dropout, Conv1D, MaxPooling1D, Flatten, Embedding, GlobalMaxPooling1D\n",
    "from keras.preprocessing.text import Tokenizer\n",
    "from keras.preprocessing.sequence import pad_sequences"
   ]
  },
  {
   "cell_type": "code",
   "execution_count": 13,
   "metadata": {
    "execution": {
     "iopub.execute_input": "2021-01-17T13:00:32.866899Z",
     "iopub.status.busy": "2021-01-17T13:00:32.866158Z",
     "iopub.status.idle": "2021-01-17T13:00:45.215768Z",
     "shell.execute_reply": "2021-01-17T13:00:45.215033Z"
    },
    "papermill": {
     "duration": 12.372485,
     "end_time": "2021-01-17T13:00:45.215893",
     "exception": false,
     "start_time": "2021-01-17T13:00:32.843408",
     "status": "completed"
    },
    "tags": []
   },
   "outputs": [],
   "source": [
    "tfidf_vectorizer = TfidfVectorizer(tokenizer = word_tokenize, max_features = 300)\n",
    "tfidf_train = tfidf_vectorizer.fit_transform(x_train)\n",
    "tfidf_test = tfidf_vectorizer.transform(x_test)\n",
    "tfidf_features = tfidf_vectorizer.get_feature_names()"
   ]
  },
  {
   "cell_type": "code",
   "execution_count": 14,
   "metadata": {
    "execution": {
     "iopub.execute_input": "2021-01-17T13:00:45.260014Z",
     "iopub.status.busy": "2021-01-17T13:00:45.259331Z",
     "iopub.status.idle": "2021-01-17T13:02:27.833337Z",
     "shell.execute_reply": "2021-01-17T13:02:27.833876Z"
    },
    "papermill": {
     "duration": 102.598965,
     "end_time": "2021-01-17T13:02:27.834071",
     "exception": false,
     "start_time": "2021-01-17T13:00:45.235106",
     "status": "completed"
    },
    "tags": []
   },
   "outputs": [
    {
     "data": {
      "text/plain": [
       "MultinomialNB()"
      ]
     },
     "execution_count": 14,
     "metadata": {},
     "output_type": "execute_result"
    }
   ],
   "source": [
    "dt = DecisionTreeClassifier()\n",
    "rf = RandomForestClassifier()\n",
    "svc = SVC(kernel='linear')\n",
    "knn = KNeighborsClassifier()\n",
    "nb = MultinomialNB()\n",
    "\n",
    "dt.fit(tfidf_train, y_train)\n",
    "rf.fit(tfidf_train, y_train)\n",
    "svc.fit(tfidf_train, y_train)\n",
    "knn.fit(tfidf_train, y_train)\n",
    "nb.fit(tfidf_train, y_train)"
   ]
  },
  {
   "cell_type": "code",
   "execution_count": 15,
   "metadata": {
    "execution": {
     "iopub.execute_input": "2021-01-17T13:02:27.877363Z",
     "iopub.status.busy": "2021-01-17T13:02:27.876725Z",
     "iopub.status.idle": "2021-01-17T13:03:00.681616Z",
     "shell.execute_reply": "2021-01-17T13:03:00.682490Z"
    },
    "papermill": {
     "duration": 32.831359,
     "end_time": "2021-01-17T13:03:00.682656",
     "exception": false,
     "start_time": "2021-01-17T13:02:27.851297",
     "status": "completed"
    },
    "tags": []
   },
   "outputs": [
    {
     "name": "stdout",
     "output_type": "stream",
     "text": [
      "Testing Acc. of Decision Tree: 84.88 %\n",
      "Testing Acc. of Random Forest: 85.89 %\n",
      "Testing Acc. of SVC: 85.42 %\n",
      "Testing Acc. of K-NN: 82.97 %\n",
      "Testing Acc. of Naive Bayesian: 85.71 %\n"
     ]
    }
   ],
   "source": [
    "print (\"Testing Acc. of Decision Tree: {} %\".format(round(dt.score(tfidf_test, y_test) * 100, 2)))\n",
    "print (\"Testing Acc. of Random Forest: {} %\".format(round(rf.score(tfidf_test, y_test) * 100, 2)))\n",
    "print (\"Testing Acc. of SVC: {} %\".format(round(svc.score(tfidf_test, y_test) * 100, 2)))\n",
    "print (\"Testing Acc. of K-NN: {} %\".format(round(knn.score(tfidf_test, y_test) * 100, 2)))\n",
    "print (\"Testing Acc. of Naive Bayesian: {} %\".format(round(nb.score(tfidf_test, y_test) * 100, 2)))"
   ]
  },
  {
   "cell_type": "code",
   "execution_count": 16,
   "metadata": {
    "execution": {
     "iopub.execute_input": "2021-01-17T13:03:00.734125Z",
     "iopub.status.busy": "2021-01-17T13:03:00.733427Z",
     "iopub.status.idle": "2021-01-17T13:03:22.801193Z",
     "shell.execute_reply": "2021-01-17T13:03:22.800415Z"
    },
    "papermill": {
     "duration": 22.099867,
     "end_time": "2021-01-17T13:03:22.801366",
     "exception": false,
     "start_time": "2021-01-17T13:03:00.701499",
     "status": "completed"
    },
    "tags": []
   },
   "outputs": [
    {
     "name": "stdout",
     "output_type": "stream",
     "text": [
      "Testing Acc. of DNN: 86.22 %\n"
     ]
    }
   ],
   "source": [
    "tfidf_train = tfidf_train.todense()\n",
    "tfidf_test = tfidf_test.todense()\n",
    "\n",
    "neural_network = Sequential()\n",
    "neural_network.add(Dense(64, input_dim=len(tfidf_features), activation='relu'))\n",
    "neural_network.add(Dropout(0.1))\n",
    "neural_network.add(Dense(64, activation='relu'))\n",
    "neural_network.add(Dropout(0.1))\n",
    "neural_network.add(Dense(1, activation='sigmoid'))\n",
    "neural_network.compile(loss='binary_crossentropy', optimizer='adam', metrics=['accuracy'])\n",
    "history = neural_network.fit(tfidf_train, y_train, epochs=50, batch_size=512, verbose=0)\n",
    "_,test_acc = neural_network.evaluate(tfidf_test,y_test,verbose=0)\n",
    "print (\"Testing Acc. of DNN: {} %\".format(round(test_acc * 100, 2)))"
   ]
  }
 ],
 "metadata": {
  "kernelspec": {
   "display_name": "Python 3",
   "language": "python",
   "name": "python3"
  },
  "language_info": {
   "codemirror_mode": {
    "name": "ipython",
    "version": 3
   },
   "file_extension": ".py",
   "mimetype": "text/x-python",
   "name": "python",
   "nbconvert_exporter": "python",
   "pygments_lexer": "ipython3",
   "version": "3.7.6"
  },
  "papermill": {
   "duration": 206.783011,
   "end_time": "2021-01-17T13:03:22.929984",
   "environment_variables": {},
   "exception": null,
   "input_path": "__notebook__.ipynb",
   "output_path": "__notebook__.ipynb",
   "parameters": {},
   "start_time": "2021-01-17T12:59:56.146973",
   "version": "2.1.0"
  }
 },
 "nbformat": 4,
 "nbformat_minor": 4
}
